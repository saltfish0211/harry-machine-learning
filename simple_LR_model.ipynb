{
  "nbformat": 4,
  "nbformat_minor": 0,
  "metadata": {
    "colab": {
      "provenance": [],
      "include_colab_link": true
    },
    "kernelspec": {
      "name": "python3",
      "display_name": "Python 3"
    },
    "language_info": {
      "name": "python"
    }
  },
  "cells": [
    {
      "cell_type": "markdown",
      "metadata": {
        "id": "view-in-github",
        "colab_type": "text"
      },
      "source": [
        "<a href=\"https://colab.research.google.com/github/saltfish0211/harry-machine-learning/blob/main/simple_LR_model.ipynb\" target=\"_parent\"><img src=\"https://colab.research.google.com/assets/colab-badge.svg\" alt=\"Open In Colab\"/></a>"
      ]
    },
    {
      "cell_type": "markdown",
      "source": [
        "# 製造假資料"
      ],
      "metadata": {
        "id": "PtMXWCZ4bTGV"
      }
    },
    {
      "cell_type": "code",
      "source": [
        "import numpy as np\n",
        "\n",
        "# 製造假資料\n",
        "\n",
        "# Seed是拿來控制隨機性的變數，不是很重要，不懂沒關係\n",
        "np.random.seed(0)\n",
        "\n",
        "# 設定樣本數\n",
        "num_samples = 1000\n",
        "\n",
        "\n",
        "# 製造隨機的0跟1來代表性別\n",
        "gender = np.random.randint(0, 2, size=num_samples)\n",
        "# 製造隨機的身高資料（用常態分佈，且考慮性別）\n",
        "height = np.random.normal(loc=175, scale=10, size=num_samples)-gender*np.random.randint(3, 10, size=num_samples)\n",
        "# 體重資料是用身高跟性別算出來的，再加上一點隨機性\n",
        "weight = np.random.normal(loc=0, scale=10, size=num_samples) + 0.7 * height - 5 * gender - 52.5\n",
        "\n",
        "# 把身高轉換成以公尺為單位\n",
        "height = height/100"
      ],
      "metadata": {
        "id": "YYRPzCMFmFpS"
      },
      "execution_count": null,
      "outputs": []
    },
    {
      "cell_type": "markdown",
      "source": [
        "# Data preparation"
      ],
      "metadata": {
        "id": "P_cruqTCbais"
      }
    },
    {
      "cell_type": "code",
      "source": [
        "# 把資料曡成一個矩陣\n",
        "data = np.column_stack((height, gender, weight))"
      ],
      "metadata": {
        "id": "M2P8QHNP2Chp"
      },
      "execution_count": null,
      "outputs": []
    },
    {
      "cell_type": "code",
      "source": [
        "# 印前20個出來看看這個資料合不合理\n",
        "data[:20]"
      ],
      "metadata": {
        "colab": {
          "base_uri": "https://localhost:8080/"
        },
        "id": "PhAlwTSWvZP5",
        "outputId": "48367406-2f36-4334-da8d-dcd23e4913ec"
      },
      "execution_count": null,
      "outputs": [
        {
          "output_type": "execute_result",
          "data": {
            "text/plain": [
              "array([[ 1.65144893,  0.        , 68.87841957],\n",
              "       [ 1.5228165 ,  1.        , 56.38044137],\n",
              "       [ 1.83481349,  1.        , 70.49827295],\n",
              "       [ 1.76642278,  0.        , 52.64039509],\n",
              "       [ 1.75672903,  1.        , 60.53255717],\n",
              "       [ 1.67773249,  1.        , 54.96812363],\n",
              "       [ 1.62465683,  1.        , 72.44210824],\n",
              "       [ 1.49835258,  1.        , 43.02407222],\n",
              "       [ 1.67081626,  1.        , 69.52583654],\n",
              "       [ 1.61385078,  1.        , 56.161772  ],\n",
              "       [ 1.79579239,  1.        , 87.93998523],\n",
              "       [ 1.86411019,  0.        , 90.35672349],\n",
              "       [ 1.89665787,  0.        , 65.90431924],\n",
              "       [ 1.80525519,  1.        , 70.38099303],\n",
              "       [ 1.69013461,  0.        , 66.99319001],\n",
              "       [ 1.6384103 ,  0.        , 56.14953622],\n",
              "       [ 1.82666632,  0.        , 82.54967638],\n",
              "       [ 1.78562928,  0.        , 79.61798933],\n",
              "       [ 1.57314615,  0.        , 56.8120266 ],\n",
              "       [ 1.72554818,  1.        , 59.20875713]])"
            ]
          },
          "metadata": {},
          "execution_count": 4
        }
      ]
    },
    {
      "cell_type": "code",
      "source": [
        "# 把特徵（X）跟標籤（y）分開\n",
        "X = data[:, :2]\n",
        "y = data[:, 2]\n",
        "\n",
        "# 新增一列都是1的給X\n",
        "X = np.hstack((X, np.ones((X.shape[0], 1))))"
      ],
      "metadata": {
        "id": "0PPNFT2j2FVZ"
      },
      "execution_count": null,
      "outputs": []
    },
    {
      "cell_type": "code",
      "source": [
        "X[:5]"
      ],
      "metadata": {
        "colab": {
          "base_uri": "https://localhost:8080/"
        },
        "id": "o82pDZRjyPfy",
        "outputId": "efe8eeb6-c2a2-427b-b7b3-d3d698efd288"
      },
      "execution_count": null,
      "outputs": [
        {
          "output_type": "execute_result",
          "data": {
            "text/plain": [
              "array([[1.65144893, 0.        , 1.        ],\n",
              "       [1.5228165 , 1.        , 1.        ],\n",
              "       [1.83481349, 1.        , 1.        ],\n",
              "       [1.76642278, 0.        , 1.        ],\n",
              "       [1.75672903, 1.        , 1.        ]])"
            ]
          },
          "metadata": {},
          "execution_count": 6
        }
      ]
    },
    {
      "cell_type": "code",
      "source": [
        "y[:5]"
      ],
      "metadata": {
        "colab": {
          "base_uri": "https://localhost:8080/"
        },
        "id": "knShH79TyTKi",
        "outputId": "630b2d08-fc79-4a46-93fe-33c369bca327"
      },
      "execution_count": null,
      "outputs": [
        {
          "output_type": "execute_result",
          "data": {
            "text/plain": [
              "array([68.87841957, 56.38044137, 70.49827295, 52.64039509, 60.53255717])"
            ]
          },
          "metadata": {},
          "execution_count": 7
        }
      ]
    },
    {
      "cell_type": "code",
      "source": [
        "# 把資料分成訓練跟測試兩部分\n",
        "\n",
        "train_data = X[:800, :]\n",
        "train_target = y[:800]\n",
        "test_data = X[800:, :]\n",
        "test_target = y[800:]"
      ],
      "metadata": {
        "id": "rvxM-6qy2YVQ"
      },
      "execution_count": null,
      "outputs": []
    },
    {
      "cell_type": "code",
      "source": [
        "# 整理數據形態\n",
        "test_target = np.reshape(test_target, (200, 1))\n",
        "train_target = np.reshape(train_target, (800, 1))"
      ],
      "metadata": {
        "id": "EQ64OcXTg8K5"
      },
      "execution_count": null,
      "outputs": []
    },
    {
      "cell_type": "markdown",
      "source": [
        "## 梯度下降"
      ],
      "metadata": {
        "id": "K_RwKIJbSAo2"
      }
    },
    {
      "cell_type": "code",
      "source": [
        "# 定義權重的矩陣w，並用0來初始化\n",
        "w = np.zeros((3, 1))\n",
        "\n",
        "# 定義學習率\n",
        "alpha = 0.01\n",
        "\n",
        "# 定義迭代次數\n",
        "num_iterations = 200000"
      ],
      "metadata": {
        "id": "l0gfI-G_SiRm"
      },
      "execution_count": null,
      "outputs": []
    },
    {
      "cell_type": "code",
      "source": [
        "# 進行梯度下降\n",
        "for i in range(num_iterations):\n",
        "    # 計算y_pred\n",
        "\n",
        "    predictions = train_data.dot(w)\n",
        "\n",
        "    # 計算誤差\n",
        "    errors = predictions - train_target\n",
        "\n",
        "    # 計算梯度\n",
        "    gradients = (1/len(train_data)) * train_data.T.dot(errors)\n",
        "\n",
        "    # 更新權重\n",
        "    w = w - alpha * gradients\n",
        "\n",
        "    # 每1000次迭代就印出目前的Cost\n",
        "    if i % 10000 == 0:\n",
        "        cost = (1/(len(train_data))) * np.sum((predictions - train_target)**2)\n",
        "        print(f\"Iteration {i}: cost = {cost}\")\n",
        "\n",
        "print(f\"Final weights: {w}\")"
      ],
      "metadata": {
        "colab": {
          "base_uri": "https://localhost:8080/"
        },
        "id": "EhwqtkJXSE2u",
        "outputId": "7a1d14e4-25ba-45ee-8bae-c906620e3545"
      },
      "execution_count": null,
      "outputs": [
        {
          "output_type": "stream",
          "name": "stdout",
          "text": [
            "Iteration 0: cost = 4399.792963956563\n",
            "Iteration 10000: cost = 102.25487878054997\n",
            "Iteration 20000: cost = 99.59340765783216\n",
            "Iteration 30000: cost = 97.9346489477709\n",
            "Iteration 40000: cost = 96.90082955566183\n",
            "Iteration 50000: cost = 96.25650284978347\n",
            "Iteration 60000: cost = 95.8549269970989\n",
            "Iteration 70000: cost = 95.60464532479182\n",
            "Iteration 80000: cost = 95.4486575703637\n",
            "Iteration 90000: cost = 95.35143838804309\n",
            "Iteration 100000: cost = 95.2908466483534\n",
            "Iteration 110000: cost = 95.25308291869645\n",
            "Iteration 120000: cost = 95.22954671912696\n",
            "Iteration 130000: cost = 95.21487781075349\n",
            "Iteration 140000: cost = 95.20573543106588\n",
            "Iteration 150000: cost = 95.2000374538051\n",
            "Iteration 160000: cost = 95.19648619625792\n",
            "Iteration 170000: cost = 95.19427287921768\n",
            "Iteration 180000: cost = 95.19289343200623\n",
            "Iteration 190000: cost = 95.19203369317322\n",
            "Final weights: [[ 64.31418794]\n",
            " [ -5.37382596]\n",
            " [-42.46981186]]\n"
          ]
        }
      ]
    },
    {
      "cell_type": "code",
      "source": [
        "# 計算測試資料的y_pred\n",
        "y_pred = test_data.dot(w)\n",
        "\n",
        "# 評估模型表現\n",
        "mse = np.mean((y_pred - test_target) ** 2)\n",
        "print(\"Mean Squared Error:\", mse)"
      ],
      "metadata": {
        "colab": {
          "base_uri": "https://localhost:8080/"
        },
        "id": "MGzQ0c-pETSv",
        "outputId": "a9cfaa20-da7e-4e36-fa87-5f268d7ff1ee"
      },
      "execution_count": null,
      "outputs": [
        {
          "output_type": "stream",
          "name": "stdout",
          "text": [
            "Mean Squared Error: 92.68733661637805\n"
          ]
        }
      ]
    },
    {
      "cell_type": "markdown",
      "source": [
        "# Moore-Penrose 僞逆矩陣"
      ],
      "metadata": {
        "id": "RdQ0cqlDfXGE"
      }
    },
    {
      "cell_type": "code",
      "source": [
        "# 用SVD計算X的僞逆矩陣\n",
        "X_pinv = np.linalg.pinv(train_data)\n",
        "\n",
        "# 用僞逆矩陣計算權重\n",
        "w = np.dot(X_pinv, train_target)"
      ],
      "metadata": {
        "id": "gJQwV3Qi2kJ4"
      },
      "execution_count": null,
      "outputs": []
    },
    {
      "cell_type": "code",
      "source": [
        "# 最後的權重結果，跟梯度下降的結果非常相似！\n",
        "\n",
        "w"
      ],
      "metadata": {
        "colab": {
          "base_uri": "https://localhost:8080/"
        },
        "id": "ABa_qru8iS_g",
        "outputId": "7fb19b16-c383-4901-e7fd-06ef9cd51278"
      },
      "execution_count": null,
      "outputs": [
        {
          "output_type": "execute_result",
          "data": {
            "text/plain": [
              "array([[ 64.61811225],\n",
              "       [ -5.35758015],\n",
              "       [-43.0011546 ]])"
            ]
          },
          "metadata": {},
          "execution_count": 70
        }
      ]
    },
    {
      "cell_type": "code",
      "source": [
        "# 計算測試資料的y_pred\n",
        "y_pred = test_data.dot(w)\n",
        "\n",
        "# 評估模型\n",
        "mse = np.mean((y_pred - test_target) ** 2)\n",
        "print(\"Mean Squared Error:\", mse)"
      ],
      "metadata": {
        "colab": {
          "base_uri": "https://localhost:8080/"
        },
        "id": "4bSmF6GM2uZ4",
        "outputId": "51293f65-45f4-4863-f7c2-282a3a49e376"
      },
      "execution_count": null,
      "outputs": [
        {
          "output_type": "stream",
          "name": "stdout",
          "text": [
            "Mean Squared Error: 92.66477527219573\n"
          ]
        }
      ]
    },
    {
      "cell_type": "code",
      "source": [
        "# 整理資料\n",
        "final_data = np.column_stack((np.delete(test_data, 2, axis=1), y_pred, test_target))\n",
        "final_data[:5]"
      ],
      "metadata": {
        "id": "lZG70hkShblb",
        "colab": {
          "base_uri": "https://localhost:8080/"
        },
        "outputId": "dd0454f1-3d98-4135-cb30-d5ad6d5c530c"
      },
      "execution_count": null,
      "outputs": [
        {
          "output_type": "execute_result",
          "data": {
            "text/plain": [
              "array([[ 1.72509981,  1.        , 63.11395852, 76.80412353],\n",
              "       [ 1.85547579,  0.        , 76.89618844, 79.06928953],\n",
              "       [ 1.77600477,  1.        , 66.4033411 , 66.61281951],\n",
              "       [ 1.70835009,  0.        , 67.38920339, 81.93468537],\n",
              "       [ 1.7223177 ,  0.        , 68.29176391, 68.04010644]])"
            ]
          },
          "metadata": {},
          "execution_count": 72
        }
      ]
    },
    {
      "cell_type": "code",
      "source": [
        "# 把資料匯出成Excel。點選左邊工具欄的文件夾圖示就可以下載檔案了\n",
        "\n",
        "import pandas as pd\n",
        "\n",
        "df = pd.DataFrame(final_data, columns=['Height', 'Gender', 'Predicted_Weight','Actual_weight'])\n",
        "\n",
        "df.to_excel(\"output.xlsx\", index=False)"
      ],
      "metadata": {
        "id": "W7JC0aM691nt"
      },
      "execution_count": null,
      "outputs": []
    },
    {
      "cell_type": "markdown",
      "source": [
        "## 使用Sklearn套件"
      ],
      "metadata": {
        "id": "Bn3RB-XlE4Nj"
      }
    },
    {
      "cell_type": "code",
      "source": [
        "from sklearn.linear_model import LinearRegression\n",
        "\n",
        "# 定義一個Linear Regression物件\n",
        "model = LinearRegression()\n",
        "\n",
        "# 用訓練資料訓練模型\n",
        "model.fit(train_data, train_target)\n",
        "\n",
        "y_pred = model.predict(test_data)\n",
        "\n",
        "# 把權重印出來。你可以看到，結果跟僞逆矩陣完全一樣！\n",
        "print(\"Intercept: \", model.intercept_)\n",
        "print(\"Coefficients: \", model.coef_)"
      ],
      "metadata": {
        "id": "4lHVHYeofbQZ",
        "colab": {
          "base_uri": "https://localhost:8080/"
        },
        "outputId": "36363f85-1e64-49ac-8329-96a6570145d4"
      },
      "execution_count": null,
      "outputs": [
        {
          "output_type": "stream",
          "name": "stdout",
          "text": [
            "Intercept:  [-43.0011546]\n",
            "Coefficients:  [[64.61811225 -5.35758015  0.        ]]\n"
          ]
        }
      ]
    }
  ]
}